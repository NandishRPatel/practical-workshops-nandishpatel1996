{
 "cells": [
  {
   "cell_type": "markdown",
   "metadata": {},
   "source": [
    "The goal this week is to pratice using Markdown to write descriptive text in notebooks and then look at Python data structures including the pandas module that supports data structures designed for handling the kind of data we'll be working with.  \n",
    "\n",
    "There is probably too much work to complete here in the workshop session, but please use this notebook after the workshop to practice your Python.  Remember to commit your changes to git as you go and push back to Github when you are done."
   ]
  },
  {
   "cell_type": "code",
   "execution_count": 1,
   "metadata": {},
   "outputs": [],
   "source": [
    "student_name = \"Nandish\"\n",
    "student_id = 45539510"
   ]
  },
  {
   "cell_type": "markdown",
   "metadata": {},
   "source": [
    "## Markdown Practice\n",
    "\n",
    "Complete this section as per the instructions in the iLearn practical page.  Add the required cells below this one."
   ]
  },
  {
   "cell_type": "markdown",
   "metadata": {},
   "source": [
    "# Markdown Examples\n",
    "Here are three useful features of the [Markdown:](https://daringfireball.net/projects/markdown/)\n",
    "1. It is easy to write\n",
    "2. It can be turned into HTML\n",
    "3. It can be used to add simple formatting to text\n",
    "    *  for example **bold text** and *italics*\n",
    "    *  also different paragraph structures\n",
    "\n",
    "This expression $\\sqrt{3x-1} + (1 + x)^2 $ is an example of a Tex inline equation in [Markdown-formatted](https://) sentence.\n",
    "\n",
    "Here is a sample of code:\n"
   ]
  },
  {
   "cell_type": "markdown",
   "metadata": {},
   "source": [
    "## Lists and Dictionaries\n",
    "\n",
    "First we look at some built in Python data structures: lists and dictionaries. \n",
    "\n",
    "A list is a sequence of things, unlike strongly typed languages (Java, C#) a list can contain a mixture of different types - there is no type for a list of integers or a list of lists.   Here are some lists:"
   ]
  },
  {
   "cell_type": "code",
   "execution_count": 2,
   "metadata": {},
   "outputs": [],
   "source": [
    "ages = [12, 99, 51, 3, 55]\n",
    "names = ['steve', 'jim', 'mary', 'carrie', 'zin']\n",
    "stuff = [12, 'eighteen', 6, ['another', 'list']]"
   ]
  },
  {
   "cell_type": "markdown",
   "metadata": {},
   "source": [
    "1. write code to print the first and third elements of each list\n",
    "2. write code to select and print everything except the first element of each list\n",
    "3. write a for loop that prints each element of the 'names' list"
   ]
  },
  {
   "cell_type": "code",
   "execution_count": 5,
   "metadata": {},
   "outputs": [
    {
     "name": "stdout",
     "output_type": "stream",
     "text": [
      "12 51\n",
      "steve mary\n",
      "12 6\n"
     ]
    }
   ],
   "source": [
    "#1\n",
    "def printFirstAndThirdElement(list):\n",
    "    print(list[0],list[2])\n",
    "\n",
    "printFirstAndThirdElement(ages)\n",
    "printFirstAndThirdElement(names)\n",
    "printFirstAndThirdElement(stuff)"
   ]
  },
  {
   "cell_type": "code",
   "execution_count": 8,
   "metadata": {},
   "outputs": [
    {
     "name": "stdout",
     "output_type": "stream",
     "text": [
      "[99, 51, 3, 55]\n",
      "['jim', 'mary', 'carrie', 'zin']\n",
      "['eighteen', 6, ['another', 'list']]\n"
     ]
    }
   ],
   "source": [
    "#2\n",
    "def printEverythingExceptFirstElement(list):\n",
    "    print(list[1:])\n",
    "\n",
    "printEverythingExceptFirstElement(ages)\n",
    "printEverythingExceptFirstElement(names)\n",
    "printEverythingExceptFirstElement(stuff)"
   ]
  },
  {
   "cell_type": "code",
   "execution_count": 7,
   "metadata": {},
   "outputs": [
    {
     "name": "stdout",
     "output_type": "stream",
     "text": [
      "steve\n",
      "jim\n",
      "mary\n",
      "carrie\n",
      "zin\n"
     ]
    }
   ],
   "source": [
    "for i in names:\n",
    "    print(i)"
   ]
  },
  {
   "cell_type": "markdown",
   "metadata": {},
   "source": [
    "A dictionary is an associative array - it associates a value (any Python data type) with a key. The key is usually a string but can be any immutable type (string, number, tuple).  Here's some code that counts the occurence of words in a string.  It stores the count for each word in a dictionary using the word as a key. If the word is already stored in the dictionary, it adds one to the count, if not, it initialises the count to one.  \n",
    "\n",
    "The second for loop iterates over the keys in the dictionary and prints one line per entry.\n",
    "\n",
    "Modify this example to be a bit smarter:\n",
    "- make sure that punctuation characters are not included as parts of a word, be careful with hyphens - should they be included or not?\n",
    "- make the count use the lowercase version of a word, so that 'The' and 'the' are counted as the same word\n",
    "- **Challenge**: find the first and second most frequent words in the text\n",
    "- **Challenge**: take your code and write it as a function that takes a string and returns a list of words with their counts in order"
   ]
  },
  {
   "cell_type": "code",
   "execution_count": 65,
   "metadata": {},
   "outputs": [
    {
     "name": "stdout",
     "output_type": "stream",
     "text": [
      "[('the', 6), ('data', 6)]\n",
      "introduces 1\n",
      "fundamental 1\n",
      "techniques 1\n",
      "such 1\n",
      "as 1\n",
      "graphical 1\n",
      "display 1\n",
      "predictive 1\n",
      "models 1\n",
      "evaluation 1\n",
      "methodologies 1\n",
      "regression 1\n",
      "classification 1\n",
      "clustering 1\n",
      "provides 1\n",
      "practical 1\n",
      "experience 1\n",
      "applying 1\n",
      "using 1\n",
      "industry-standard 1\n",
      "software 1\n",
      "sets 1\n",
      "who 1\n",
      "completed 1\n",
      "will 1\n",
      "be 1\n",
      "able 1\n",
      "identify 1\n",
      "which 1\n",
      "are 1\n",
      "most 1\n",
      "appropriate 1\n",
      "for 1\n",
      "a 1\n",
      "apply 1\n",
      "interpret 1\n",
      "results 1\n",
      "analysis 1\n",
      "they 1\n",
      "performed 1\n",
      "this 2\n",
      "students 2\n",
      "tools 2\n",
      "science 2\n",
      "these 2\n",
      "real-world 2\n",
      "have 2\n",
      "set 2\n",
      "unit 3\n",
      "and 3\n",
      "of 3\n",
      "methods 3\n",
      "to 4\n",
      "the 6\n",
      "data 6\n"
     ]
    }
   ],
   "source": [
    "import re\n",
    "from collections import Counter, OrderedDict\n",
    "\n",
    "description = \"\"\"This unit introduces students to the fundamental techniques and \n",
    "tools of data science, such as the graphical display of data, \n",
    "predictive models, evaluation methodologies, regression, \n",
    "classification and clustering. The unit provides practical \n",
    "experience applying these methods using industry-standard \n",
    "software tools to real-world data sets. Students who have \n",
    "completed this unit will be able to identify which data \n",
    "science methods are most appropriate for a real-world data \n",
    "set, apply these methods to the data set, and interpret the \n",
    "results of the analysis they have performed. \"\"\"\n",
    "\n",
    "count = dict()\n",
    "\n",
    "def cleanText(text):\n",
    "    return re.sub(r'[^\\w\\s-]','',text)\n",
    "\n",
    "cleanedDescription = cleanText(description)\n",
    "\n",
    "for word in cleanedDescription.split():\n",
    "    word = word.lower()\n",
    "    if word in count:\n",
    "        count[word] += 1\n",
    "    else:\n",
    "        count[word] = 1\n",
    "        \n",
    "\n",
    "\n",
    "\n",
    "#print(sorted((value, key) for (key,value) in count.items())[-2:])\n",
    "print(Counter(cleanedDescription.lower().split()).most_common(2))\n",
    "\n",
    "ordered_count = OrderedDict(sorted(count.items(), key=lambda z: z[1]))\n",
    "\n",
    "def printInOrder(dictionary):\n",
    "    ordered_count = OrderedDict(sorted(count.items(), key=lambda z: z[1]))\n",
    "    for key,value in ordered_count.items():\n",
    "        print(key,value)\n",
    "\n",
    "printInOrder(count)"
   ]
  },
  {
   "cell_type": "markdown",
   "metadata": {},
   "source": [
    "## Pandas Data Frames\n",
    "\n",
    "[Pandas](https://pandas.pydata.org) is a Python module that provides some important data structures for Data Science work and a large collection of methods for data analysis. \n",
    "\n",
    "The two main data structures are the [Series]() and [DataFrame](http://pandas.pydata.org/pandas-docs/stable/dsintro.html#dataframe).  \n",
    "\n",
    "A Series is a one dimensional array of data, but unlike the Python list the data is indexed - the index is like the dictionary key, any immutable value like a number or string.  You can use the label to select elements from the series as well as positional values.  \n",
    "\n",
    "A DataFrame is analogous to a spreadsheet - a two dimensional table of data with indexed rows and named columns. \n",
    "\n",
    "You should read up on these and follow the examples in the text.  Here are a few exercises to complete with data frames."
   ]
  },
  {
   "cell_type": "markdown",
   "metadata": {},
   "source": [
    "You are given three csv files containing sample data."
   ]
  },
  {
   "cell_type": "code",
   "execution_count": 104,
   "metadata": {},
   "outputs": [],
   "source": [
    "import pandas as pd\n",
    "import numpy as np\n",
    "import matplotlib.pyplot as plt\n",
    "%matplotlib inline\n",
    "\n",
    "ds1 = 'ds1.csv'\n",
    "ds2 = 'ds2.csv'\n",
    "ds3 = 'ds3.csv'"
   ]
  },
  {
   "cell_type": "markdown",
   "metadata": {},
   "source": [
    "Write code below to read one of these data files into a pandas data frame and:\n",
    "- show the first few rows: .head\n",
    "- find the summary data for each column: .describe\n",
    "- select just those rows where the value of x and y is over 50\n",
    "- select the column 'x' and create a series\n",
    "- plot the 'x' series as a line graph\n",
    "- plot the dataframe as a scatterplot\n",
    "\n",
    "Once you have the code for this, you can change the file you use for input of the data (ds2, ds3) and re-run the following cells to see the different output that is generated"
   ]
  },
  {
   "cell_type": "code",
   "execution_count": 106,
   "metadata": {},
   "outputs": [
    {
     "name": "stdout",
     "output_type": "stream",
     "text": [
      "         x        y\n",
      "0  55.3846  97.1795\n",
      "1  51.5385  96.0256\n",
      "2  46.1538  94.4872\n",
      "3  42.8205  91.4103\n",
      "4  40.7692  88.3333\n",
      "<bound method NDFrame.head of            x        y\n",
      "0    55.3846  97.1795\n",
      "1    51.5385  96.0256\n",
      "2    46.1538  94.4872\n",
      "3    42.8205  91.4103\n",
      "4    40.7692  88.3333\n",
      "5    38.7179  84.8718\n",
      "6    35.6410  79.8718\n",
      "7    33.0769  77.5641\n",
      "8    28.9744  74.4872\n",
      "9    26.1538  71.4103\n",
      "10   23.0769  66.4103\n",
      "11   22.3077  61.7949\n",
      "12   22.3077  57.1795\n",
      "13   23.3333  52.9487\n",
      "14   25.8974  51.0256\n",
      "15   29.4872  51.0256\n",
      "16   32.8205  51.0256\n",
      "17   35.3846  51.4103\n",
      "18   40.2564  51.4103\n",
      "19   44.1026  52.9487\n",
      "20   46.6667  54.1026\n",
      "21   50.0000  55.2564\n",
      "22   53.0769  55.6410\n",
      "23   56.6667  56.0256\n",
      "24   59.2308  57.9487\n",
      "25   61.2821  62.1795\n",
      "26   61.5385  66.4103\n",
      "27   61.7949  69.1026\n",
      "28   57.4359  55.2564\n",
      "29   54.8718  49.8718\n",
      "..       ...      ...\n",
      "112  52.3077  18.3333\n",
      "113  49.7436  17.5641\n",
      "114  47.4359  16.0256\n",
      "115  44.8718  13.7180\n",
      "116  48.7179  14.8718\n",
      "117  51.2821  14.8718\n",
      "118  54.1026  14.8718\n",
      "119  56.1538  14.1026\n",
      "120  52.0513  12.5641\n",
      "121  48.7179  11.0256\n",
      "122  47.1795   9.8718\n",
      "123  46.1538   6.0256\n",
      "124  50.5128   9.4872\n",
      "125  53.8462  10.2564\n",
      "126  57.4359  10.2564\n",
      "127  60.0000  10.6410\n",
      "128  64.1026  10.6410\n",
      "129  66.9231  10.6410\n",
      "130  71.2821  10.6410\n",
      "131  74.3590  10.6410\n",
      "132  78.2051  10.6410\n",
      "133  67.9487   8.7180\n",
      "134  68.4615   5.2564\n",
      "135  68.2051   2.9487\n",
      "136  37.6923  25.7692\n",
      "137  39.4872  25.3846\n",
      "138  91.2821  41.5385\n",
      "139  50.0000  95.7692\n",
      "140  47.9487  95.0000\n",
      "141  44.1026  92.6923\n",
      "\n",
      "[142 rows x 2 columns]>\n",
      "          x        y\n",
      "0   55.3846  97.1795\n",
      "1   51.5385  96.0256\n",
      "22  53.0769  55.6410\n",
      "23  56.6667  56.0256\n",
      "24  59.2308  57.9487\n",
      "25  61.2821  62.1795\n",
      "26  61.5385  66.4103\n",
      "27  61.7949  69.1026\n",
      "28  57.4359  55.2564\n",
      "60  70.5128  53.7180\n",
      "61  71.5385  60.6410\n",
      "62  71.5385  64.4872\n",
      "63  69.4872  69.4872\n",
      "67  53.0769  85.2564\n",
      "68  55.3846  86.0256\n",
      "69  56.6667  86.0256\n",
      "70  56.1538  82.9487\n",
      "71  53.8462  80.6410\n",
      "72  51.2821  78.7180\n",
      "78  57.9487  99.4872\n",
      "79  61.7949  99.1026\n",
      "80  64.8718  97.5641\n",
      "81  68.4615  94.1026\n",
      "82  70.7692  91.0256\n",
      "83  72.0513  86.4103\n",
      "84  73.8462  83.3333\n",
      "85  75.1282  79.1026\n",
      "86  76.6667  75.2564\n",
      "87  77.6923  71.4103\n",
      "88  79.7436  66.7949\n",
      "89  81.7949  60.2564\n",
      "90  83.3333  55.2564\n",
      "91  85.1282  51.4103\n",
      "<class 'pandas.core.series.Series'>\n"
     ]
    },
    {
     "data": {
      "text/plain": [
       "<matplotlib.collections.PathCollection at 0x220ba07e128>"
      ]
     },
     "execution_count": 106,
     "metadata": {},
     "output_type": "execute_result"
    },
    {
     "data": {
      "image/png": "[encoded data removed]",
      "text/plain": [
       "<Figure size 432x288 with 1 Axes>"
      ]
     },
     "metadata": {
      "needs_background": "light"
     },
     "output_type": "display_data"
    },
    {
     "data": {
      "image/png": "[encoded data removed]",
      "text/plain": [
       "<Figure size 432x288 with 1 Axes>"
      ]
     },
     "metadata": {
      "needs_background": "light"
     },
     "output_type": "display_data"
    }
   ],
   "source": [
    "# write your code here\n",
    "\n",
    "#1\n",
    "ds1_csv = pd.read_csv(ds1)\n",
    "print(ds1_csv.head())\n",
    "\n",
    "#2\n",
    "ds1_csv.describe()\n",
    "\n",
    "#3\n",
    "flag = (ds1_csv['x'] > 50) & (ds1_csv['y'] > 50)\n",
    "print(ds1_csv[flag])\n",
    "\n",
    "#4\n",
    "series_x = ds1_csv['x']\n",
    "#series_x = pd.Series(ds1_csv['x'])\n",
    "print(type(series_x))\n",
    "\n",
    "#5\n",
    "plt.title(\"Line graph for x\")\n",
    "plt.plot(series_x)\n",
    "\n",
    "plt.figure(0)\n",
    "\n",
    "#6\n",
    "plt.title(\"Scatter plot for dataframe ds1_csv\")\n",
    "plt.scatter(ds1_csv['x'],ds1_csv['y'])"
   ]
  },
  {
   "cell_type": "markdown",
   "metadata": {},
   "source": [
    "# Further Practice\n",
    "\n",
    "If you finish this task you can practice more with pandas data frames by following the examples in the text, section 2.6.  The CSV file that they use in that section is available in the `files` directory of this repository as `educ_figdp_1_Data.csv`.   "
   ]
  },
  {
   "cell_type": "code",
   "execution_count": null,
   "metadata": {},
   "outputs": [],
   "source": [
    "edufile = 'files/educ_figdp_1_Data.csv'"
   ]
  }
 ],
 "metadata": {
  "kernelspec": {
   "display_name": "Python 3",
   "language": "python",
   "name": "python3"
  },
  "language_info": {
   "codemirror_mode": {
    "name": "ipython",
    "version": 3
   },
   "file_extension": ".py",
   "mimetype": "text/x-python",
   "name": "python",
   "nbconvert_exporter": "python",
   "pygments_lexer": "ipython3",
   "version": "3.7.1"
  }
 },
 "nbformat": 4,
 "nbformat_minor": 2
}
